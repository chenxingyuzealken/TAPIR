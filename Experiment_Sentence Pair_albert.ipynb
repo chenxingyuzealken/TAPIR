{
 "cells": [
  {
   "cell_type": "code",
   "execution_count": 1,
   "id": "bfbb34e6",
   "metadata": {},
   "outputs": [],
   "source": [
    "import pandas as pd\n",
    "import torch\n",
    "from sklearn.metrics import classification_report, confusion_matrix\n",
    "from transformers import AutoTokenizer, AutoModel, AdamW, get_linear_schedule_with_warmup\n",
    "\n",
    "from torch import nn, optim\n",
    "import torch.nn.functional as F\n",
    "from collections import defaultdict\n",
    "\n",
    "from tqdm import tqdm\n",
    "tqdm.pandas()\n",
    "\n",
    "import numpy as np\n",
    "\n",
    "\n",
    "from torch.utils.data import Dataset, DataLoader\n",
    "from shap import KernelExplainer\n",
    "import os, glob\n",
    "\n",
    "import seaborn as sns\n",
    "import matplotlib.pyplot as plt\n",
    "from matplotlib import rc\n",
    "\n",
    "from sklearn.model_selection import train_test_split"
   ]
  },
  {
   "cell_type": "code",
   "execution_count": 2,
   "id": "19d93f8e",
   "metadata": {},
   "outputs": [
    {
     "name": "stdout",
     "output_type": "stream",
     "text": [
      "Using device: cuda\n",
      "Tensor on GPU: True\n"
     ]
    }
   ],
   "source": [
    "# Check if a GPU is available\n",
    "device = torch.device(\"cuda\" if torch.cuda.is_available() else \"cpu\")\n",
    "print(\"Using device:\", device)\n",
    "\n",
    "# Create a random tensor on the GPU\n",
    "x = torch.randn(1, device=device)\n",
    "\n",
    "# Verify that the tensor is on the GPU\n",
    "print(\"Tensor on GPU:\", x.is_cuda)\n"
   ]
  },
  {
   "cell_type": "code",
   "execution_count": 3,
   "id": "0507ed80",
   "metadata": {},
   "outputs": [],
   "source": [
    "#parameters\n",
    "MAX_LEN = 200\n",
    "BATCH_SIZE = 5\n",
    "PRE_TRAINED_MODEL_NAME = 'albert-base-v2'\n",
    "SANITY_CHECK = 'OFF' #ON is for debugging\n",
    "\n",
    "# Load the pre-trained BERT tokenizer\n",
    "tokenizer = AutoTokenizer.from_pretrained(PRE_TRAINED_MODEL_NAME)\n"
   ]
  },
  {
   "cell_type": "code",
   "execution_count": 4,
   "id": "de0d3062",
   "metadata": {},
   "outputs": [
    {
     "data": {
      "text/plain": [
       "['best_model_state.bin',\n",
       " 'cache_dir',\n",
       " 'df_amt_test.h5',\n",
       " 'df_amt_train.h5',\n",
       " 'df_ISOT_test.h5',\n",
       " 'df_ISOT_train.h5',\n",
       " 'df_kdd_test.h5',\n",
       " 'df_kdd_train.h5',\n",
       " 'df_Liar_test.h5',\n",
       " 'df_Liar_train.h5',\n",
       " 'df_stance_test.h5',\n",
       " 'df_stance_train.h5',\n",
       " 'outputs',\n",
       " 'runs',\n",
       " 'semeval2016_stance_best_model_state.bin',\n",
       " 'sentence_pair_best_model_state.bin',\n",
       " 'sentence_pair_emotion_best_model_state.bin',\n",
       " 'sentence_pair_emotion_stance_best_model_state.bin',\n",
       " 'sentence_pair_stance_best_model_state.bin',\n",
       " 'test.h5',\n",
       " 'test_NER.h5',\n",
       " 'test_NER_emotion.h5',\n",
       " 'test_NER_emotion_stance.h5',\n",
       " 'test_NER_emotion_stance_agreement.h5',\n",
       " 'train.h5',\n",
       " 'train_NER.h5',\n",
       " 'train_NER_emotion.h5',\n",
       " 'train_NER_emotion_stance.h5',\n",
       " 'train_NER_emotion_stance_agreement.h5',\n",
       " 'val.h5',\n",
       " 'val_NER.h5',\n",
       " 'val_NER_emotion.h5',\n",
       " 'val_NER_emotion_stance.h5',\n",
       " 'val_NER_emotion_stance_agreement.h5']"
      ]
     },
     "execution_count": 4,
     "metadata": {},
     "output_type": "execute_result"
    }
   ],
   "source": [
    "os.chdir(r\"D:\\PACK\\PhD\\Study1\\cleaned_dataset\")\n",
    "os.listdir()"
   ]
  },
  {
   "cell_type": "code",
   "execution_count": 5,
   "id": "26d41cc3",
   "metadata": {},
   "outputs": [
    {
     "name": "stdout",
     "output_type": "stream",
     "text": [
      "(732131, 37) (182084, 37) (226180, 37)\n"
     ]
    }
   ],
   "source": [
    "train_df = pd.read_pickle('train_NER_emotion_stance_agreement.h5',compression='xz')\n",
    "val_df = pd.read_pickle('val_NER_emotion_stance_agreement.h5',compression='xz')\n",
    "test_df = pd.read_pickle('test_NER_emotion_stance_agreement.h5',compression='xz')\n",
    "\n",
    "print(train_df.shape, val_df.shape, test_df.shape)"
   ]
  },
  {
   "cell_type": "code",
   "execution_count": 6,
   "id": "fa7f0453",
   "metadata": {},
   "outputs": [
    {
     "data": {
      "text/plain": [
       "Index(['index', 'text', 'label', 'target', 'target_label', 'sentences',\n",
       "       'joined_sentences', 'emotion', 'stance', 'NRC', 'text_target',\n",
       "       'semeval2016', 'AGAINST', 'FAVOR', 'NONE', 'stance_result', 'AGAINST',\n",
       "       'FAVOR', 'NONE', 'semeval2016_result', 'anger', 'disgust', 'fear',\n",
       "       'joy', 'neutral', 'sadness', 'surprise', 'emotion_result', 'surprise',\n",
       "       'anger', 'fear', 'joy', 'disgust', 'sadness', 'nrc_result',\n",
       "       'agreed_stance', 'agreed_emotion'],\n",
       "      dtype='object')"
      ]
     },
     "execution_count": 6,
     "metadata": {},
     "output_type": "execute_result"
    }
   ],
   "source": [
    "train_df.columns"
   ]
  },
  {
   "cell_type": "code",
   "execution_count": 7,
   "id": "07234764",
   "metadata": {},
   "outputs": [
    {
     "data": {
      "text/plain": [
       "neutral     71609\n",
       "fear        37593\n",
       "anger       25680\n",
       "sadness     15576\n",
       "joy         13910\n",
       "disgust     11410\n",
       "surprise     6306\n",
       "Name: emotion_result, dtype: int64"
      ]
     },
     "execution_count": 7,
     "metadata": {},
     "output_type": "execute_result"
    }
   ],
   "source": [
    "val_df.emotion_result.value_counts()\n"
   ]
  },
  {
   "cell_type": "code",
   "execution_count": 8,
   "id": "139a86be",
   "metadata": {},
   "outputs": [
    {
     "data": {
      "text/plain": [
       "tie         68436\n",
       "Neutral     48590\n",
       "fear        46741\n",
       "joy         28105\n",
       "anger       15677\n",
       "sadness     13808\n",
       "surprise     3470\n",
       "disgust      1353\n",
       "Name: nrc_result, dtype: int64"
      ]
     },
     "execution_count": 8,
     "metadata": {},
     "output_type": "execute_result"
    }
   ],
   "source": [
    "test_df.nrc_result.value_counts()\n"
   ]
  },
  {
   "cell_type": "code",
   "execution_count": 9,
   "id": "836a351f",
   "metadata": {},
   "outputs": [
    {
     "name": "stdout",
     "output_type": "stream",
     "text": [
      "(29215, 37) (2833, 37) (3544, 37)\n"
     ]
    }
   ],
   "source": [
    "#filtering for agreed stance and agreed emotion\n",
    "train_df = train_df[(train_df['agreed_stance']==True) & (train_df['agreed_emotion']==True)]\n",
    "val_df = val_df[(val_df['agreed_stance']==True) & (val_df['agreed_emotion']==True)]\n",
    "test_df = test_df[(test_df['agreed_stance']==True) & (test_df['agreed_emotion']==True)]\n",
    "print(train_df.shape, val_df.shape, test_df.shape)"
   ]
  },
  {
   "cell_type": "code",
   "execution_count": 10,
   "id": "cebda63b",
   "metadata": {},
   "outputs": [
    {
     "data": {
      "text/plain": [
       "fear        12566\n",
       "anger        8049\n",
       "joy          4695\n",
       "sadness      3050\n",
       "disgust       783\n",
       "surprise       72\n",
       "Name: emotion_result, dtype: int64"
      ]
     },
     "execution_count": 10,
     "metadata": {},
     "output_type": "execute_result"
    }
   ],
   "source": [
    "train_df[train_df['agreed_emotion']==True].emotion_result.value_counts()\n"
   ]
  },
  {
   "cell_type": "code",
   "execution_count": 11,
   "id": "7fe529a1",
   "metadata": {},
   "outputs": [],
   "source": [
    "#d = {'not_fake':1,'fake':0}\n",
    "\n",
    "class_names = ['fake', 'not_fake']\n"
   ]
  },
  {
   "cell_type": "code",
   "execution_count": 12,
   "id": "4bd17a4d",
   "metadata": {},
   "outputs": [
    {
     "data": {
      "text/plain": [
       "<AxesSubplot: >"
      ]
     },
     "execution_count": 12,
     "metadata": {},
     "output_type": "execute_result"
    },
    {
     "data": {
      "image/png": "[encoded data removed]",
      "text/plain": [
       "<Figure size 640x480 with 1 Axes>"
      ]
     },
     "metadata": {},
     "output_type": "display_data"
    }
   ],
   "source": [
    "train_df['stance_result'].value_counts().plot(kind=\"barh\")\n"
   ]
  },
  {
   "cell_type": "code",
   "execution_count": 13,
   "id": "2fc0a86d",
   "metadata": {},
   "outputs": [
    {
     "data": {
      "text/plain": [
       "<AxesSubplot: >"
      ]
     },
     "execution_count": 13,
     "metadata": {},
     "output_type": "execute_result"
    },
    {
     "data": {
      "image/png": "[encoded data removed]",
      "text/plain": [
       "<Figure size 640x480 with 1 Axes>"
      ]
     },
     "metadata": {},
     "output_type": "display_data"
    }
   ],
   "source": [
    "train_df['label'].value_counts().plot(kind=\"barh\")\n"
   ]
  },
  {
   "cell_type": "code",
   "execution_count": 14,
   "id": "e45d524b",
   "metadata": {},
   "outputs": [
    {
     "data": {
      "text/plain": [
       "<AxesSubplot: >"
      ]
     },
     "execution_count": 14,
     "metadata": {},
     "output_type": "execute_result"
    },
    {
     "data": {
      "image/png": "[encoded data removed]",
      "text/plain": [
       "<Figure size 640x480 with 1 Axes>"
      ]
     },
     "metadata": {},
     "output_type": "display_data"
    }
   ],
   "source": [
    "test_df['label'].value_counts().plot(kind=\"barh\")\n"
   ]
  },
  {
   "cell_type": "code",
   "execution_count": 15,
   "id": "f3bea212",
   "metadata": {},
   "outputs": [
    {
     "data": {
      "text/plain": [
       "'Since sexual harassment is almost a sport at Fox News, it is unsurprising that a man who worked as a Miami correspondent for the network until fairly recently was just arrested for raping someone.Orlando Salinas, who worked for the network from 2000-2012 until he was hired by a CBS affiliate in Roanoke, Virginia, was arrested Tuesday and charged with forcible sodomy and rape. Due to the horrific nature of the allegations, the victim s identity is being shielded but reports specify that the accuser is not his wife or a relative.Salinas, whose prior criminal record includes contributing and three counts of larceny, faces five years to life for each of his felony charges.Salinas was an employee of WDBJ7 from 2012-2015, but was terminated last April for  insubordination.  Since then, he has been working as a real estate agent in the New River Valley. In a  whatever happened to  article published by the Roanoke Times in December, Salinas  current employer called him a  wonderful person  and said that  people who know who he is really trust him.  The judge, however, apparently doesn t really know him because he is being held without bail for the horrific crimes.Salinas told the Times that his firing was the result of a refusal to  tone down  his aggressive interview style, an idea with which he disagreed because he seeks  truth like a missile.  But, hey, he says  some of the most annoying people make the best reporters.  Seems like they make pretty accomplished rapists, too.Watch a report on the Fox contributor s arrest below:Featured image via screengrab'"
      ]
     },
     "execution_count": 15,
     "metadata": {},
     "output_type": "execute_result"
    }
   ],
   "source": [
    "train_df.text.iloc[0]"
   ]
  },
  {
   "cell_type": "code",
   "execution_count": 16,
   "id": "a87315f3",
   "metadata": {},
   "outputs": [
    {
     "data": {
      "text/plain": [
       "'Fox News'"
      ]
     },
     "execution_count": 16,
     "metadata": {},
     "output_type": "execute_result"
    }
   ],
   "source": [
    "train_df.target.iloc[0]"
   ]
  },
  {
   "cell_type": "code",
   "execution_count": 17,
   "id": "b427a266",
   "metadata": {},
   "outputs": [
    {
     "data": {
      "text/plain": [
       "index                                                              5250\n",
       "text                  Since sexual harassment is almost a sport at F...\n",
       "label                                                                 0\n",
       "target                                                         Fox News\n",
       "target_label                                                        ORG\n",
       "sentences             [Since sexual harassment is almost a sport at ...\n",
       "joined_sentences      Since sexual harassment is almost a sport at F...\n",
       "emotion               [{'label': 'disgust', 'score': 0.3482104539871...\n",
       "stance                [{'label': 'LABEL_2', 'score': 0.8370042443275...\n",
       "NRC                   {'anticipation': 2, 'positive': 1, 'trust': 1,...\n",
       "text_target           (Since sexual harassment is almost a sport at ...\n",
       "semeval2016           ([[0.9551856, 0.02461267, 0.020201761]], AGAINST)\n",
       "AGAINST                                                        0.826783\n",
       "FAVOR                                                          0.107649\n",
       "NONE                                                           0.065568\n",
       "stance_result                                                   AGAINST\n",
       "AGAINST                                                        0.966672\n",
       "FAVOR                                                          0.005977\n",
       "NONE                                                            0.02735\n",
       "semeval2016_result                                              AGAINST\n",
       "anger                                                          0.414685\n",
       "disgust                                                        0.229988\n",
       "fear                                                           0.058781\n",
       "joy                                                            0.001546\n",
       "neutral                                                        0.260887\n",
       "sadness                                                        0.027274\n",
       "surprise                                                       0.006839\n",
       "emotion_result                                                    anger\n",
       "surprise                                                              4\n",
       "anger                                                                14\n",
       "fear                                                                  7\n",
       "joy                                                                   4\n",
       "disgust                                                               9\n",
       "sadness                                                               7\n",
       "nrc_result                                                        anger\n",
       "agreed_stance                                                      True\n",
       "agreed_emotion                                                     True\n",
       "Name: 77, dtype: object"
      ]
     },
     "execution_count": 17,
     "metadata": {},
     "output_type": "execute_result"
    }
   ],
   "source": [
    "train_df.iloc[0]"
   ]
  },
  {
   "cell_type": "markdown",
   "id": "04db2e38",
   "metadata": {},
   "source": [
    "# sanity checks\n"
   ]
  },
  {
   "cell_type": "code",
   "execution_count": 18,
   "id": "f5a1f3a4",
   "metadata": {},
   "outputs": [],
   "source": [
    "SANITY_CHECK = 'ON'"
   ]
  },
  {
   "cell_type": "code",
   "execution_count": 19,
   "id": "f227e5ed",
   "metadata": {},
   "outputs": [
    {
     "name": "stdout",
     "output_type": "stream",
     "text": [
      " Sentence: When was I last outside? I am stuck at home for 2 weeks.\n",
      "   Tokens: ['▁when', '▁was', '▁i', '▁last', '▁outside', '?', '▁i', '▁am', '▁stuck', '▁at', '▁home', '▁for', '▁2', '▁weeks', '.']\n",
      "Token IDs: [76, 23, 31, 236, 719, 60, 31, 589, 4549, 35, 213, 26, 172, 1342, 9]\n",
      "20\n",
      "['[CLS]', '▁when', '▁was', '▁i', '▁last', '▁outside', '?', '▁i', '▁am', '▁stuck', '▁at', '▁home', '▁for', '▁2', '▁weeks', '.', '[SEP]', '▁hilary', '▁clinton', '[SEP]']\n"
     ]
    }
   ],
   "source": [
    "#sanity checks\n",
    "if SANITY_CHECK == 'ON':\n",
    "    sample_txt = 'When was I last outside? I am stuck at home for 2 weeks.'\n",
    "    sample_target = 'Hilary Clinton'\n",
    "    sample_emotion = 'Happy'\n",
    "    tokens = tokenizer.tokenize(sample_txt)\n",
    "    token_ids = tokenizer.convert_tokens_to_ids(tokens)\n",
    "    \n",
    "    sample_text2 = sample_txt+'[SEP]'+sample_target+'[SEP]'+sample_emotion\n",
    "\n",
    "    print(f' Sentence: {sample_txt}')\n",
    "    print(f'   Tokens: {tokens}')\n",
    "    print(f'Token IDs: {token_ids}')\n",
    "\n",
    "    encoding = tokenizer.encode_plus(\n",
    "      #sample_text2,\n",
    "      sample_txt,sample_target,  \n",
    "      max_length=300,\n",
    "      add_special_tokens=True, # Add '[CLS]' and '[SEP]'\n",
    "      return_token_type_ids=False,\n",
    "      pad_to_max_length=True,\n",
    "      #padding=True,\n",
    "      padding='longest',\n",
    "      return_attention_mask=True,\n",
    "      return_tensors='pt',  # Return PyTorch tensors\n",
    "    )\n",
    "\n",
    "    encoding.keys()\n",
    "    print(len(encoding['input_ids'][0]))\n",
    "    encoding['input_ids'][0]\n",
    "    print(tokenizer.convert_ids_to_tokens(encoding['input_ids'][0]))\n",
    "    \n",
    "    \n",
    "\n"
   ]
  },
  {
   "cell_type": "code",
   "execution_count": 20,
   "id": "738b1585",
   "metadata": {},
   "outputs": [
    {
     "name": "stdout",
     "output_type": "stream",
     "text": [
      " Sentence: When was I last outside? I am stuck at home for 2 weeks.\n",
      "   Tokens: ['▁when', '▁was', '▁i', '▁last', '▁outside', '?', '▁i', '▁am', '▁stuck', '▁at', '▁home', '▁for', '▁2', '▁weeks', '.']\n",
      "Token IDs: [76, 23, 31, 236, 719, 60, 31, 589, 4549, 35, 213, 26, 172, 1342, 9]\n",
      "24\n",
      "['[CLS]', '▁when', '▁was', '▁i', '▁last', '▁outside', '?', '▁i', '▁am', '▁stuck', '▁at', '▁home', '▁for', '▁2', '▁weeks', '.', '[SEP]', '▁hilary', '▁clinton', '[SEP]', '▁happy', '[SEP]', '▁against', '[SEP]']\n"
     ]
    }
   ],
   "source": [
    "#sanity checks\n",
    "if SANITY_CHECK == 'ON':\n",
    "    sample_txt = 'When was I last outside? I am stuck at home for 2 weeks.'\n",
    "    sample_target = 'Hilary Clinton'\n",
    "    sample_emotion = 'Happy'\n",
    "    sample_stance ='AGAINST'\n",
    "    tokens = tokenizer.tokenize(sample_txt)\n",
    "    token_ids = tokenizer.convert_tokens_to_ids(tokens)\n",
    "    \n",
    "    sample_text2 = sample_txt+'[SEP]'+sample_target+'[SEP]'+ sample_emotion +'[SEP]' + sample_stance\n",
    "\n",
    "    print(f' Sentence: {sample_txt}')\n",
    "    print(f'   Tokens: {tokens}')\n",
    "    print(f'Token IDs: {token_ids}')\n",
    "\n",
    "    encoding = tokenizer.encode_plus(\n",
    "      sample_text2,\n",
    "      #sample_txt,sample_target,  \n",
    "      max_length=300,\n",
    "      add_special_tokens=True, # Add '[CLS]' and '[SEP]'\n",
    "      return_token_type_ids=False,\n",
    "      pad_to_max_length=True,\n",
    "      #padding=True,\n",
    "      padding='longest',\n",
    "      return_attention_mask=True,\n",
    "      return_tensors='pt',  # Return PyTorch tensors\n",
    "    )\n",
    "\n",
    "    encoding.keys()\n",
    "    print(len(encoding['input_ids'][0]))\n",
    "    encoding['input_ids'][0]\n",
    "    print(tokenizer.convert_ids_to_tokens(encoding['input_ids'][0]))"
   ]
  },
  {
   "cell_type": "code",
   "execution_count": 21,
   "id": "60960174",
   "metadata": {},
   "outputs": [
    {
     "name": "stderr",
     "output_type": "stream",
     "text": [
      "  0%|                                                                                        | 0/29215 [00:00<?, ?it/s]Truncation was not explicitly activated but `max_length` is provided a specific value, please use `truncation=True` to explicitly truncate examples to max length. Defaulting to 'longest_first' truncation strategy. If you encode pairs of sequences (GLUE-style) with the tokenizer you can select this strategy more precisely by providing a specific strategy to `truncation`.\n",
      "100%|███████████████████████████████████████████████████████████████████████████| 29215/29215 [01:38<00:00, 297.64it/s]\n",
      "\n",
      "\n",
      "`distplot` is a deprecated function and will be removed in seaborn v0.14.0.\n",
      "\n",
      "Please adapt your code to use either `displot` (a figure-level function with\n",
      "similar flexibility) or `histplot` (an axes-level function for histograms).\n",
      "\n",
      "For a guide to updating your code to use the new functions, please see\n",
      "https://gist.github.com/mwaskom/de44147ed2974457ad6372750bbe5751\n",
      "\n"
     ]
    },
    {
     "name": "stdout",
     "output_type": "stream",
     "text": [
      "512\n"
     ]
    },
    {
     "data": {
      "image/png": "[encoded data removed]",
      "text/plain": [
       "<Figure size 640x480 with 1 Axes>"
      ]
     },
     "metadata": {},
     "output_type": "display_data"
    }
   ],
   "source": [
    "if SANITY_CHECK == 'ON':\n",
    "    token_lens = []\n",
    "\n",
    "    counter = 0\n",
    "\n",
    "    for txt in tqdm(train_df.text):\n",
    "        try:\n",
    "            tokens = tokenizer.encode(txt, max_length=512)\n",
    "            token_lens.append(len(tokens))\n",
    "            counter +=1\n",
    "        except:\n",
    "            print(txt)\n",
    "            print(counter)\n",
    "            break\n",
    "\n",
    "    sns.distplot(token_lens)\n",
    "    plt.xlim([0, 512]);\n",
    "    plt.xlabel('Token count')\n",
    "    print(max(token_lens))"
   ]
  },
  {
   "cell_type": "code",
   "execution_count": 21,
   "id": "2a8627fd",
   "metadata": {},
   "outputs": [
    {
     "data": {
      "text/plain": [
       "'Since sexual harassment is almost a sport at Fox News, it is unsurprising that a man who worked as a Miami correspondent for the network until fairly recently was just arrested for raping someone.Orlando Salinas, who worked for the network from 2000-2012 until he was hired by a CBS affiliate in Roanoke, Virginia, was arrested Tuesday and charged with forcible sodomy and rape. Due to the horrific nature of the allegations, the victim s identity is being shielded but reports specify that the accuser is not his wife or a relative.Salinas, whose prior criminal record includes contributing and three counts of larceny, faces five years to life for each of his felony charges.Salinas was an employee of WDBJ7 from 2012-2015, but was terminated last April for  insubordination.  Since then, he has been working as a real estate agent in the New River Valley. In a  whatever happened to  article published by the Roanoke Times in December, Salinas  current employer called him a  wonderful person  and said that  people who know who he is really trust him.  The judge, however, apparently doesn t really know him because he is being held without bail for the horrific crimes.Salinas told the Times that his firing was the result of a refusal to  tone down  his aggressive interview style, an idea with which he disagreed because he seeks  truth like a missile.  But, hey, he says  some of the most annoying people make the best reporters.  Seems like they make pretty accomplished rapists, too.Watch a report on the Fox contributor s arrest below:Featured image via screengrab'"
      ]
     },
     "execution_count": 21,
     "metadata": {},
     "output_type": "execute_result"
    }
   ],
   "source": [
    "train_df.text.iloc[0]"
   ]
  },
  {
   "cell_type": "code",
   "execution_count": 24,
   "id": "8654ef2c",
   "metadata": {},
   "outputs": [],
   "source": [
    "#functions\n",
    "class GPReviewDataset(Dataset):\n",
    "  def __init__(self, text, entity, emotion, stance, targets, tokenizer, max_len):\n",
    "    self.sentence1 = text\n",
    "    self.sentence2 = entity\n",
    "    self.sentence3 = emotion\n",
    "    self.sentence4 = stance\n",
    "    self.targets = targets\n",
    "    self.tokenizer = tokenizer\n",
    "    self.max_len = max_len\n",
    "  \n",
    "  def __len__(self):\n",
    "    return len(self.sentence1)\n",
    "  \n",
    "  def __getitem__(self, item):\n",
    "    text = str(self.sentence1[item])\n",
    "    entity = str(self.sentence2[item])\n",
    "    emotion = str(self.sentence3[item])\n",
    "    stance = str(self.sentence4[item])\n",
    "    target = self.targets[item]\n",
    "    \n",
    "    custom =  text #+'[SEP]'+ entity +'[SEP]'+ emotion # +'[SEP]'+ stance #need this for more than 1 sentence pair\n",
    "\n",
    "    encoding = self.tokenizer.encode_plus(\n",
    "      custom,\n",
    "      add_special_tokens=True,\n",
    "      max_length=self.max_len,\n",
    "      return_token_type_ids=False,\n",
    "      pad_to_max_length=True, #deprecated\n",
    "      #padding='max_length',\n",
    "      return_attention_mask=True,\n",
    "      return_tensors='pt',\n",
    "    )\n",
    "\n",
    "    return {\n",
    "      'text': text,\n",
    "      'target': entity,\n",
    "      'emotion': emotion,\n",
    "      'stance': stance,\n",
    "      'input_ids': encoding['input_ids'].flatten(),\n",
    "      'attention_mask': encoding['attention_mask'].flatten(),\n",
    "      'targets': torch.tensor(target, dtype=torch.long)\n",
    "    }\n",
    "\n",
    "def create_data_loader(df, tokenizer, max_len, batch_size):\n",
    "  ds = GPReviewDataset(\n",
    "    text=df.text.to_numpy(),\n",
    "    entity=df.target.to_numpy(),\n",
    "    emotion=df.emotion_result.to_numpy(),  \n",
    "    stance=df.stance_result.to_numpy(),\n",
    "    targets=df.label.to_numpy(),\n",
    "    tokenizer=tokenizer,\n",
    "    max_len=max_len\n",
    "  )\n",
    "\n",
    "  return DataLoader(\n",
    "    ds,\n",
    "    batch_size=batch_size,\n",
    "    #num_workers=4 #  process hangs with num_workers=4\n",
    "    num_workers=0,  #  num_workers: how many subprocesses to use for data loading. 0 means that the data will be \n",
    "                   #  loaded in the main process. (default: 0)\n",
    "    shuffle=True   # , drop_last=True  \n",
    "  )\n",
    "\n",
    "class TextClassifier(nn.Module):\n",
    "    def __init__(self, n_classes):\n",
    "        super(TextClassifier, self).__init__()\n",
    "        self.model = AutoModel.from_pretrained(PRE_TRAINED_MODEL_NAME) #reading documentation is key when customising this\n",
    "        self.drop = nn.Dropout(p=0.2)\n",
    "        self.out = nn.Linear(self.model.config.hidden_size, n_classes)\n",
    "\n",
    "    def forward(self, input_ids,attention_mask):\n",
    "        outputs = self.model(input_ids=input_ids,\n",
    "                             attention_mask=attention_mask,\n",
    "                                     )\n",
    "        #_ = outputs[0]\n",
    "        pooled_output = outputs.pooler_output\n",
    "        output = self.drop(pooled_output)\n",
    "        predictions = self.out(output)\n",
    "        \n",
    "        if SANITY_CHECK=='ON':\n",
    "            print('outputs:\\n', outputs)\n",
    "            print('pooled_output:\\n', pooled_output)\n",
    "            print('output:\\n', output)\n",
    "            print('predictions:\\n', predictions)\n",
    "          \n",
    "        return predictions \n",
    "        #return output\n"
   ]
  },
  {
   "cell_type": "code",
   "execution_count": 25,
   "id": "c5407087",
   "metadata": {},
   "outputs": [],
   "source": [
    "train_data_loader = create_data_loader(train_df, tokenizer, MAX_LEN, BATCH_SIZE)\n",
    "val_data_loader = create_data_loader(val_df, tokenizer, MAX_LEN, BATCH_SIZE)\n",
    "test_data_loader = create_data_loader(test_df, tokenizer, MAX_LEN, BATCH_SIZE)"
   ]
  },
  {
   "cell_type": "code",
   "execution_count": 26,
   "id": "600bcaec",
   "metadata": {},
   "outputs": [
    {
     "name": "stderr",
     "output_type": "stream",
     "text": [
      "Some weights of the model checkpoint at albert-base-v2 were not used when initializing AlbertModel: ['predictions.dense.bias', 'predictions.dense.weight', 'predictions.decoder.bias', 'predictions.decoder.weight', 'predictions.bias', 'predictions.LayerNorm.bias', 'predictions.LayerNorm.weight']\n",
      "- This IS expected if you are initializing AlbertModel from the checkpoint of a model trained on another task or with another architecture (e.g. initializing a BertForSequenceClassification model from a BertForPreTraining model).\n",
      "- This IS NOT expected if you are initializing AlbertModel from the checkpoint of a model that you expect to be exactly identical (initializing a BertForSequenceClassification model from a BertForSequenceClassification model).\n"
     ]
    }
   ],
   "source": [
    "model = TextClassifier(len(class_names))\n",
    "model = model.to(device)"
   ]
  },
  {
   "cell_type": "code",
   "execution_count": 27,
   "id": "accae017",
   "metadata": {},
   "outputs": [
    {
     "name": "stderr",
     "output_type": "stream",
     "text": [
      "Truncation was not explicitly activated but `max_length` is provided a specific value, please use `truncation=True` to explicitly truncate examples to max length. Defaulting to 'longest_first' truncation strategy. If you encode pairs of sequences (GLUE-style) with the tokenizer you can select this strategy more precisely by providing a specific strategy to `truncation`.\n",
      "The `pad_to_max_length` argument is deprecated and will be removed in a future version, use `padding=True` or `padding='longest'` to pad to the longest sequence in the batch, or use `padding='max_length'` to pad to a max length. In this case, you can give a specific length with `max_length` (e.g. `max_length=45`) or leave max_length to None to pad to the maximal input size of the model (e.g. 512 for Bert).\n"
     ]
    },
    {
     "name": "stdout",
     "output_type": "stream",
     "text": [
      "dict_keys(['text', 'target', 'emotion', 'stance', 'input_ids', 'attention_mask', 'targets'])\n",
      "### dataloader  content ###\n",
      "dataloader inputs: torch.Size([5, 200])\n",
      "dataloader attention: torch.Size([5, 200])\n",
      "dataloader target: torch.Size([5])\n",
      "### ###\n"
     ]
    }
   ],
   "source": [
    "#sanity check\n",
    "\n",
    "\n",
    "if SANITY_CHECK == 'ON':\n",
    "    data = next(iter(train_data_loader))\n",
    "    print(data.keys())\n",
    "\n",
    "    print('### dataloader  content ###')\n",
    "    print('dataloader inputs:', data['input_ids'].shape)\n",
    "    print('dataloader attention:', data['attention_mask'].shape)\n",
    "    print('dataloader target:',data['targets'].shape)\n",
    "    print('### ###')\n"
   ]
  },
  {
   "cell_type": "code",
   "execution_count": 28,
   "id": "82c3b1bb",
   "metadata": {},
   "outputs": [
    {
     "name": "stderr",
     "output_type": "stream",
     "text": [
      "Some weights of the model checkpoint at albert-base-v2 were not used when initializing AlbertModel: ['predictions.dense.bias', 'predictions.dense.weight', 'predictions.decoder.bias', 'predictions.decoder.weight', 'predictions.bias', 'predictions.LayerNorm.bias', 'predictions.LayerNorm.weight']\n",
      "- This IS expected if you are initializing AlbertModel from the checkpoint of a model trained on another task or with another architecture (e.g. initializing a BertForSequenceClassification model from a BertForPreTraining model).\n",
      "- This IS NOT expected if you are initializing AlbertModel from the checkpoint of a model that you expect to be exactly identical (initializing a BertForSequenceClassification model from a BertForSequenceClassification model).\n"
     ]
    },
    {
     "name": "stdout",
     "output_type": "stream",
     "text": [
      "768\n",
      "torch.Size([5, 768])\n",
      "torch.Size([5, 768])\n",
      "torch.Size([5, 768])\n",
      "torch.Size([5, 2])\n",
      "torch.return_types.max(\n",
      "values=tensor([0.3577, 0.2482, 0.1281, 0.3518, 0.1539], grad_fn=<MaxBackward0>),\n",
      "indices=tensor([0, 0, 0, 0, 0]))\n"
     ]
    },
    {
     "data": {
      "text/plain": [
       "'\\nExpected outputs type\\n\\n768\\ntorch.Size([5, 768])\\ntorch.Size([5, 768])\\ntorch.Size([5, 768])\\ntorch.Size([5, 2])\\ntorch.return_types.max(\\nvalues=tensor([ 0.2137,  0.5324,  0.1138,  0.5421, -0.1919], grad_fn=<MaxBackward0>),\\nindices=tensor([1, 1, 1, 1, 0]))\\n\\n'"
      ]
     },
     "execution_count": 28,
     "metadata": {},
     "output_type": "execute_result"
    }
   ],
   "source": [
    "if SANITY_CHECK == 'ON':\n",
    "    #Testing forward\n",
    "    tokenizer.convert_ids_to_tokens(data['input_ids'][0])\n",
    "    bert_model = AutoModel.from_pretrained(PRE_TRAINED_MODEL_NAME)\n",
    "    \n",
    "    input_ids = data['input_ids']\n",
    "    attention_mask = data['attention_mask']\n",
    "    \n",
    "    outputs = bert_model(input_ids=input_ids, \n",
    "                         attention_mask=attention_mask\n",
    "                        )\n",
    "            \n",
    "    drop = nn.Dropout(p=0.2)\n",
    "    n_classes = len(class_names)\n",
    "    out = nn.Linear(768, n_classes)\n",
    "        \n",
    "    pooled_output = outputs.pooler_output\n",
    "    #pooled_output = outputs.last_hidden_state #distilbert\n",
    "    output = drop(pooled_output)\n",
    "    \n",
    "    logits = out(output)\n",
    "    print(bert_model.config.hidden_size)\n",
    "    \n",
    "    #the shapes must be matching\n",
    "    print(outputs.pooler_output.shape)\n",
    "    #print(outputs.last_hidden_state.shape)\n",
    "\n",
    "    print(pooled_output.shape)\n",
    "    print(output.shape)\n",
    "    print(logits.shape) #should be [5,2]\n",
    "    print(torch.max(logits, dim=1))\n",
    "    \n",
    "'''\n",
    "Expected outputs type\n",
    "\n",
    "768\n",
    "torch.Size([5, 768])\n",
    "torch.Size([5, 768])\n",
    "torch.Size([5, 768])\n",
    "torch.Size([5, 2])\n",
    "torch.return_types.max(\n",
    "values=tensor([ 0.2137,  0.5324,  0.1138,  0.5421, -0.1919], grad_fn=<MaxBackward0>),\n",
    "indices=tensor([1, 1, 1, 1, 0]))\n",
    "\n",
    "'''"
   ]
  },
  {
   "cell_type": "code",
   "execution_count": 29,
   "id": "4602724f",
   "metadata": {},
   "outputs": [
    {
     "name": "stderr",
     "output_type": "stream",
     "text": [
      "This implementation of AdamW is deprecated and will be removed in a future version. Use the PyTorch implementation torch.optim.AdamW instead, or set `no_deprecation_warning=True` to disable this warning\n"
     ]
    }
   ],
   "source": [
    "EPOCHS = 5\n",
    "\n",
    "optimizer = AdamW(model.parameters(), lr=1e-5, correct_bias=False)\n",
    "total_steps = len(train_data_loader) * EPOCHS\n",
    "\n",
    "scheduler = get_linear_schedule_with_warmup(\n",
    "  optimizer,\n",
    "  num_warmup_steps=0,\n",
    "  num_training_steps=total_steps\n",
    ")\n",
    "\n",
    "loss_fn = nn.CrossEntropyLoss().to(device)\n",
    "\n",
    "def train_epoch(model, \n",
    "                data_loader, \n",
    "                loss_fn, \n",
    "                optimizer, \n",
    "                device, \n",
    "                scheduler, \n",
    "                n_examples):\n",
    "    \n",
    "    model = model.train()\n",
    "    losses = []\n",
    "    correct_predictions = 0\n",
    "    \n",
    "    for d in tqdm(data_loader):\n",
    "        input_ids = d[\"input_ids\"].to(device)\n",
    "        attention_mask = d[\"attention_mask\"].to(device)\n",
    "        targets = d[\"targets\"].to(device)\n",
    "\n",
    "        outputs = model(\n",
    "          input_ids=input_ids,\n",
    "          attention_mask=attention_mask\n",
    "        )\n",
    "        \n",
    "        _, preds = torch.max(outputs, dim=1)\n",
    "        loss = loss_fn(outputs, targets)\n",
    "\n",
    "        correct_predictions += torch.sum(preds == targets)\n",
    "        losses.append(loss.item())\n",
    "\n",
    "        loss.backward()\n",
    "        nn.utils.clip_grad_norm_(model.parameters(), max_norm=1.0)\n",
    "        optimizer.step()\n",
    "        scheduler.step()\n",
    "        optimizer.zero_grad()\n",
    "\n",
    "    return correct_predictions.double() / n_examples, np.mean(losses)\n",
    "\n",
    "def eval_model(model, data_loader, loss_fn, device, n_examples):\n",
    "    model = model.eval()\n",
    "    \n",
    "    losses = []\n",
    "    \n",
    "    correct_predictions = 0\n",
    "    \n",
    "    with torch.no_grad():\n",
    "        for d in tqdm(data_loader):\n",
    "            input_ids = d[\"input_ids\"].to(device)\n",
    "            attention_mask = d[\"attention_mask\"].to(device)\n",
    "            targets = d[\"targets\"].to(device)\n",
    "            \n",
    "            outputs = model(input_ids=input_ids,\n",
    "                            attention_mask=attention_mask\n",
    "                           )\n",
    "            \n",
    "            _, preds = torch.max(outputs, dim=1)\n",
    "            \n",
    "            loss = loss_fn(outputs, targets)\n",
    "            \n",
    "            correct_predictions += torch.sum(preds == targets)\n",
    "            losses.append(loss.item())\n",
    "            \n",
    "    return correct_predictions.double() / n_examples, np.mean(losses)"
   ]
  },
  {
   "cell_type": "markdown",
   "id": "26e35fb7",
   "metadata": {},
   "source": [
    "# Here we can write our training loop. We'll also store the training history:"
   ]
  },
  {
   "cell_type": "code",
   "execution_count": 30,
   "id": "f0006ef4",
   "metadata": {},
   "outputs": [
    {
     "name": "stdout",
     "output_type": "stream",
     "text": [
      "Epoch 1/5\n",
      "----------\n"
     ]
    },
    {
     "name": "stderr",
     "output_type": "stream",
     "text": [
      "100%|██████████████████████████████████████████████████████████████████████████████| 5843/5843 [48:45<00:00,  2.00it/s]\n",
      "100%|████████████████████████████████████████████████████████████████████████████████| 567/567 [02:05<00:00,  4.53it/s]\n"
     ]
    },
    {
     "name": "stdout",
     "output_type": "stream",
     "text": [
      "Train loss 0.0654504470340891 accuracy 0.9857949683381824\n",
      "Epoch 2/5\n",
      "----------\n"
     ]
    },
    {
     "name": "stderr",
     "output_type": "stream",
     "text": [
      "100%|██████████████████████████████████████████████████████████████████████████████| 5843/5843 [49:16<00:00,  1.98it/s]\n",
      "100%|████████████████████████████████████████████████████████████████████████████████| 567/567 [02:06<00:00,  4.49it/s]\n"
     ]
    },
    {
     "name": "stdout",
     "output_type": "stream",
     "text": [
      "Train loss 0.022625063092867305 accuracy 0.9964744138285127\n",
      "Epoch 3/5\n",
      "----------\n"
     ]
    },
    {
     "name": "stderr",
     "output_type": "stream",
     "text": [
      "100%|██████████████████████████████████████████████████████████████████████████████| 5843/5843 [48:23<00:00,  2.01it/s]\n",
      "100%|████████████████████████████████████████████████████████████████████████████████| 567/567 [01:52<00:00,  5.05it/s]\n"
     ]
    },
    {
     "name": "stdout",
     "output_type": "stream",
     "text": [
      "Train loss 0.009970298660349312 accuracy 0.9982543214102344\n",
      "Epoch 4/5\n",
      "----------\n"
     ]
    },
    {
     "name": "stderr",
     "output_type": "stream",
     "text": [
      "100%|██████████████████████████████████████████████████████████████████████████████| 5843/5843 [48:02<00:00,  2.03it/s]\n",
      "100%|████████████████████████████████████████████████████████████████████████████████| 567/567 [01:51<00:00,  5.08it/s]\n"
     ]
    },
    {
     "name": "stdout",
     "output_type": "stream",
     "text": [
      "Train loss 0.002353011372846199 accuracy 0.9995892520965257\n",
      "Epoch 5/5\n",
      "----------\n"
     ]
    },
    {
     "name": "stderr",
     "output_type": "stream",
     "text": [
      "100%|██████████████████████████████████████████████████████████████████████████████| 5843/5843 [48:04<00:00,  2.03it/s]\n",
      "100%|████████████████████████████████████████████████████████████████████████████████| 567/567 [02:09<00:00,  4.38it/s]\n"
     ]
    },
    {
     "name": "stdout",
     "output_type": "stream",
     "text": [
      "Train loss 0.00026645678611155187 accuracy 0.9999315420160876\n",
      "CPU times: total: 4h 13min 13s\n",
      "Wall time: 4h 12min 41s\n"
     ]
    }
   ],
   "source": [
    "%%time\n",
    "\n",
    "SANITY_CHECK = 'OFF'\n",
    "\n",
    "history = defaultdict(list)\n",
    "best_accuracy = 0\n",
    "\n",
    "for epoch in range(EPOCHS):\n",
    "    print(f'Epoch {epoch + 1}/{EPOCHS}')\n",
    "    print('-' * 10)\n",
    "    \n",
    "    train_acc, train_loss = train_epoch(\n",
    "        model,\n",
    "        train_data_loader,    \n",
    "        loss_fn, \n",
    "        optimizer, \n",
    "        device, \n",
    "        scheduler, \n",
    "        len(train_df)\n",
    "    )\n",
    "    \n",
    "    val_acc, val_loss = eval_model(\n",
    "        model,\n",
    "        val_data_loader,\n",
    "        loss_fn, \n",
    "        device, \n",
    "        len(test_df)\n",
    "  )\n",
    "\n",
    "    print(f'Train loss {train_loss} accuracy {train_acc}')\n",
    "    \n",
    "    history['train_acc'].append(train_acc)\n",
    "    history['train_loss'].append(train_loss)\n",
    "    history['val_acc'].append(val_acc)\n",
    "    history['val_loss'].append(val_loss)\n",
    "    \n",
    "    if val_acc > best_accuracy:\n",
    "        torch.save(model.state_dict(), 'sentence_pair_stance_best_model_state.bin')\n",
    "        best_accuracy = val_acc"
   ]
  },
  {
   "cell_type": "code",
   "execution_count": 31,
   "id": "aed4c473",
   "metadata": {},
   "outputs": [
    {
     "name": "stdout",
     "output_type": "stream",
     "text": [
      "[tensor(0.9858, dtype=torch.float64), tensor(0.9965, dtype=torch.float64), tensor(0.9983, dtype=torch.float64), tensor(0.9996, dtype=torch.float64), tensor(0.9999, dtype=torch.float64)]\n",
      "[tensor(0.7305, dtype=torch.float64), tensor(0.7542, dtype=torch.float64), tensor(0.7542, dtype=torch.float64), tensor(0.7297, dtype=torch.float64), tensor(0.7192, dtype=torch.float64)]\n"
     ]
    },
    {
     "data": {
      "image/png": "[encoded data removed]",
      "text/plain": [
       "<Figure size 640x480 with 1 Axes>"
      ]
     },
     "metadata": {},
     "output_type": "display_data"
    }
   ],
   "source": [
    "t_acc = [a.cpu() for a in history['train_acc']]\n",
    "print(t_acc)\n",
    "v_acc = [a.cpu() for a in history['val_acc']]\n",
    "print(v_acc)\n",
    "\n",
    "#t_acc = history['train_loss']\n",
    "#print(t_acc)\n",
    "# v_acc = history['val_acc']\n",
    "# print(v_acc)\n",
    "\n",
    "#plt.plot(history['train_acc'], label='train accuracy')\n",
    "#plt.plot(history['val_acc'], label='validation accuracy')\n",
    "\n",
    "plt.plot(t_acc, label='train accuracy')\n",
    "plt.plot(v_acc, label='validation accuracy')\n",
    "\n",
    "plt.title('Training history')\n",
    "plt.ylabel('Accuracy')\n",
    "plt.xlabel('Epoch')\n",
    "plt.legend()\n",
    "plt.ylim([0, 1]);"
   ]
  },
  {
   "cell_type": "code",
   "execution_count": 32,
   "id": "220f3382",
   "metadata": {},
   "outputs": [
    {
     "data": {
      "text/plain": [
       "tensor(0)"
      ]
     },
     "execution_count": 32,
     "metadata": {},
     "output_type": "execute_result"
    }
   ],
   "source": [
    "history['train_acc'][0].cpu().argmax()"
   ]
  },
  {
   "cell_type": "code",
   "execution_count": 33,
   "id": "44d278ee",
   "metadata": {},
   "outputs": [
    {
     "name": "stderr",
     "output_type": "stream",
     "text": [
      "100%|████████████████████████████████████████████████████████████████████████████████| 709/709 [02:58<00:00,  3.97it/s]\n"
     ]
    },
    {
     "data": {
      "text/plain": [
       "(0.9353837471783295, 0.8910431931482277)"
      ]
     },
     "execution_count": 33,
     "metadata": {},
     "output_type": "execute_result"
    }
   ],
   "source": [
    "test_acc, test_loss = eval_model(\n",
    "  model,\n",
    "  test_data_loader,\n",
    "  loss_fn,\n",
    "  device,\n",
    "  len(test_df)\n",
    ")\n",
    "\n",
    "test_acc.item(), test_loss.item()"
   ]
  },
  {
   "cell_type": "code",
   "execution_count": 34,
   "id": "1b93ba61",
   "metadata": {},
   "outputs": [],
   "source": [
    "def get_predictions(model, data_loader):\n",
    "  model = model.eval()\n",
    "  \n",
    "  review_texts = []\n",
    "  predictions = []\n",
    "  prediction_probs = []\n",
    "  real_values = []\n",
    "\n",
    "  with torch.no_grad():\n",
    "    for d in data_loader:\n",
    "\n",
    "      texts = d[\"text\"]\n",
    "      input_ids = d[\"input_ids\"].to(device)\n",
    "      attention_mask = d[\"attention_mask\"].to(device)\n",
    "      targets = d[\"targets\"].to(device)\n",
    "\n",
    "      outputs = model(\n",
    "        input_ids=input_ids,\n",
    "        attention_mask=attention_mask\n",
    "      )\n",
    "      _, preds = torch.max(outputs, dim=1)\n",
    "\n",
    "      probs = F.softmax(outputs, dim=1)\n",
    "\n",
    "      review_texts.extend(texts)\n",
    "      predictions.extend(preds)\n",
    "      prediction_probs.extend(probs)\n",
    "      real_values.extend(targets)\n",
    "\n",
    "  predictions = torch.stack(predictions).cpu()\n",
    "  prediction_probs = torch.stack(prediction_probs).cpu()\n",
    "  real_values = torch.stack(real_values).cpu()\n",
    "  return review_texts, predictions, prediction_probs, real_values"
   ]
  },
  {
   "cell_type": "code",
   "execution_count": 35,
   "id": "e2d090bb",
   "metadata": {},
   "outputs": [],
   "source": [
    "y_review_texts, y_pred, y_pred_probs, y_test = get_predictions(\n",
    "  model,\n",
    "  test_data_loader\n",
    ")"
   ]
  },
  {
   "cell_type": "code",
   "execution_count": 36,
   "id": "d3d3bc29",
   "metadata": {},
   "outputs": [
    {
     "name": "stdout",
     "output_type": "stream",
     "text": [
      "              precision    recall  f1-score   support\n",
      "\n",
      "        fake       0.91      0.96      0.93      1711\n",
      "    not_fake       0.96      0.91      0.94      1833\n",
      "\n",
      "    accuracy                           0.94      3544\n",
      "   macro avg       0.94      0.94      0.94      3544\n",
      "weighted avg       0.94      0.94      0.94      3544\n",
      "\n"
     ]
    }
   ],
   "source": [
    "print(classification_report(y_test, y_pred,target_names=class_names))"
   ]
  },
  {
   "cell_type": "code",
   "execution_count": 37,
   "id": "0263dbcd",
   "metadata": {},
   "outputs": [
    {
     "data": {
      "image/png": "[encoded data removed]",
      "text/plain": [
       "<Figure size 640x480 with 2 Axes>"
      ]
     },
     "metadata": {},
     "output_type": "display_data"
    }
   ],
   "source": [
    "def show_confusion_matrix(confusion_matrix):\n",
    "  hmap = sns.heatmap(confusion_matrix, annot=True, fmt=\"d\", cmap=\"Blues\")\n",
    "  hmap.yaxis.set_ticklabels(hmap.yaxis.get_ticklabels(), rotation=0, ha='right')\n",
    "  hmap.xaxis.set_ticklabels(hmap.xaxis.get_ticklabels(), rotation=30, ha='right')\n",
    "  plt.ylabel('True sentiment')\n",
    "  plt.xlabel('Predicted sentiment');\n",
    "\n",
    "cm = confusion_matrix(y_test, y_pred)\n",
    "df_cm = pd.DataFrame(cm, index=class_names, columns=class_names)\n",
    "show_confusion_matrix(df_cm)"
   ]
  },
  {
   "cell_type": "code",
   "execution_count": 37,
   "id": "83e88575",
   "metadata": {},
   "outputs": [
    {
     "data": {
      "text/plain": [
       "'\\ntext+target\\n           precision    recall  f1-score   support\\nfake           0.93      0.90      0.91      1711\\nnot_fake       0.91      0.93      0.92      1833\\n\\nTexxt+target+emotion+stance\\nfake           0.95      0.98      0.96      1711\\nnot_fake       0.98      0.96      0.97      1833\\n\\nTexxt+target+emotion\\nfake           0.96      0.98      0.97      1711\\nnot_fake       0.98      0.96      0.97      1833\\n\\n'"
      ]
     },
     "execution_count": 37,
     "metadata": {},
     "output_type": "execute_result"
    }
   ],
   "source": [
    "'''\n",
    "              precision    recall  f1-score   support\n",
    "\n",
    "text\n",
    "fake           0.91      0.96      0.93      1711\n",
    "not_fake       0.96      0.91      0.94      1833\n",
    "\n",
    "text+target\n",
    "fake           0.93      0.90      0.91      1711\n",
    "not_fake       0.91      0.93      0.92      1833\n",
    "\n",
    "Text+target+emotion+stance\n",
    "fake           0.95      0.98      0.96      1711\n",
    "not_fake       0.98      0.96      0.97      1833\n",
    "\n",
    "Text+target+emotion\n",
    "fake           0.96      0.98      0.97      1711\n",
    "not_fake       0.98      0.96      0.97      1833\n",
    "\n",
    "Text+target+stance\n",
    "fake           0.94      0.96      0.95      1711\n",
    "not_fake       0.96      0.94      0.95      1833\n",
    "\n",
    "'''"
   ]
  }
 ],
 "metadata": {
  "kernelspec": {
   "display_name": "Python 3 (ipykernel)",
   "language": "python",
   "name": "python3"
  },
  "language_info": {
   "codemirror_mode": {
    "name": "ipython",
    "version": 3
   },
   "file_extension": ".py",
   "mimetype": "text/x-python",
   "name": "python",
   "nbconvert_exporter": "python",
   "pygments_lexer": "ipython3",
   "version": "3.9.15"
  }
 },
 "nbformat": 4,
 "nbformat_minor": 5
}
